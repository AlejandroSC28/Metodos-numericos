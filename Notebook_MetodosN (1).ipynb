{
 "cells": [
  {
   "cell_type": "markdown",
   "id": "c2c38481-8b09-4ebc-b5c4-523ac619e48d",
   "metadata": {},
   "source": [
    "# Métodos Analíticos\n",
    "Los métodos analíticos buscan encontrar soluciones **exactas** a problemas matemáticos,usando en sus resoluciones expresiones matemáticas.\n",
    "- La precisión es exacta ya que no hay aproximaciones.\n",
    "- Permite anális teórico de propiedades matemáticas.\n",
    "- Aplicaciones tipicas como algebra lineal,calculo diferencial , entre otros."
   ]
  },
  {
   "cell_type": "markdown",
   "id": "5284944f-472f-40a3-a472-2c4f68308b2e",
   "metadata": {},
   "source": [
    "## Ejemplo : Solución Analítica de Sistemas de Ecuaciones Lineales \n",
    " \\begin{cases}\n",
    " 2x + 3y = 5 \\\\\n",
    " x - y = 1\n",
    " \\end{cases}\n",
    " \\]\n"
   ]
  },
  {
   "cell_type": "code",
   "execution_count": 3,
   "id": "ec07e9fa-232d-4dbf-9266-8f95a59e0220",
   "metadata": {},
   "outputs": [
    {
     "name": "stdout",
     "output_type": "stream",
     "text": [
      "Solución exacta: x = 1.6, y = 0.6\n",
      "2x + 3y = 5.0 (debería ser 5)\n",
      "x - y = 1.0 (debería ser 1)\n"
     ]
    }
   ],
   "source": [
    "# Paso 1: Expresar x en función de y usando la segunda ecuación\n",
    "def expresar_x_en_funcion_de_y(y):\n",
    "    return y + 1\n",
    "\n",
    "# Paso 2: Sustituir en la primera ecuación\n",
    "def sustituir_en_primera(y):\n",
    "    return 2 * (y + 1) + 3 * y\n",
    "\n",
    "# Paso 3: Simplificar y resolver para y\n",
    "def calcular_y():\n",
    "    y = (5 - 2) / 5  # 5y + 2 = 5 → y = 3/5\n",
    "    return y\n",
    "\n",
    "# Paso 4: Despejar x usando el resultado de y\n",
    "def calcular_x(y):\n",
    "    x = expresar_x_en_funcion_de_y(y)\n",
    "    return x\n",
    "\n",
    "# Paso 5: Implementar la solución completa\n",
    "y = calcular_y()\n",
    "x = calcular_x(y)\n",
    "\n",
    "# Imprimir resultados\n",
    "print(f\"Solución exacta: x = {x}, y = {y}\")\n",
    "\n",
    "# Verificación\n",
    "print(f\"2x + 3y = {2*x + 3*y} (debería ser 5)\")\n",
    "print(f\"x - y = {x - y} (debería ser 1)\")\n",
    "\n"
   ]
  },
  {
   "cell_type": "markdown",
   "id": "3b75830e-a030-4876-9ebd-df492ad920ee",
   "metadata": {},
   "source": [
    "## Métodos Numéricos\n",
    "A diferencia de los métodos analíticos,estos buscan aproximar soluciones a problemas matemáticos que no tienen solución analítica o son dificiles de resolver exactamente.\n",
    "- Proporciona resultados aproximados con un error controlable\n",
    "- Se aproxima al valor exacto a medida que se repiten los cálculos\n",
    "- Se usa comunmente en estadistica y probabilidad,ciencias computacionales,algebra,entre otros\n",
    "    "
   ]
  },
  {
   "cell_type": "markdown",
   "id": "428e0cdb-a129-423f-b103-9a356549dcc3",
   "metadata": {},
   "source": [
    "## Ejemplo :Solución Numérica de Sistemas de Ecuaciones.\n",
    "# Método de Gauss-Seidel\n",
    "\n",
    " \\begin{cases}\n",
    " 4x + y + z = 4 \\\\\n",
    " x + 3y + z = 2 \\\\\n",
    " x + y + 5z = 3\n",
    " \\end{cases}\n",
    " "
   ]
  },
  {
   "cell_type": "code",
   "execution_count": 24,
   "id": "ac707a78-6bcf-4c67-beae-6325d304156a",
   "metadata": {},
   "outputs": [
    {
     "name": "stdout",
     "output_type": "stream",
     "text": [
      "Solución aproximada: [0.8400001676490341, 0.25999997720074114, 0.37999997103004496]\n",
      "Comprobación Ax-b: [6.188269221496512e-07, 7.028130255548604e-08, 0.0]\n"
     ]
    }
   ],
   "source": [
    "def gauss_seidel(A, b, tol=1e-6, max_iter=100):\n",
    "    \"\"\"Implementación del método de Gauss-Seidel.\"\"\"\n",
    "    n = len(b)\n",
    "    x = [0.0] * n  # Inicializamos el vector de soluciones con ceros\n",
    "\n",
    "    for _ in range(max_iter):\n",
    "        x_old = x[:]  # Copia de la solución anterior\n",
    "        for i in range(n):\n",
    "            suma1 = sum(A[i][j] * x[j] for j in range(i))  # Elementos anteriores\n",
    "            suma2 = sum(A[i][j] * x_old[j] for j in range(i + 1, n))  # Elementos posteriores\n",
    "            x[i] = (b[i] - suma1 - suma2) / A[i][i]  # Aplicamos la fórmula\n",
    "\n",
    "        # Criterio de convergencia (norma infinito)\n",
    "        if max(abs(x[i] - x_old[i]) for i in range(n)) < tol:\n",
    "            break\n",
    "\n",
    "    return x\n",
    "\n",
    "# Definimos el sistema\n",
    "A = [[4, 1, 1],\n",
    "     [1, 3, 1], \n",
    "     [1, 1, 5]]\n",
    "b = [4, 2, 3]\n",
    "\n",
    "# Resolvemos\n",
    "sol = gauss_seidel(A, b)\n",
    "print(f\"Solución aproximada: {sol}\")\n",
    "\n",
    "# Comprobación Ax-b\n",
    "comprobacion = [sum(A[i][j] * sol[j] for j in range(len(b))) - b[i] for i in range(len(b))]\n",
    "print(f\"Comprobación Ax-b: {comprobacion}\")  # Debería ser cercano a [0,0,0]\n"
   ]
  },
  {
   "cell_type": "markdown",
   "id": "a87745c3-81ca-440f-8bfa-dad851f3f9e2",
   "metadata": {},
   "source": [
    "# Exactitud vs Presicion"
   ]
  },
  {
   "cell_type": "markdown",
   "id": "7cc66c1b-6906-4e16-964a-4cb264ab224f",
   "metadata": {},
   "source": [
    "- Exactitud (Accuracy): mide qué tan cerca están los resultados del valor verdadero.\n",
    "- Presicion (Precision): mide qué tan consistentes o repetibles son los resultados entre sí.\n",
    "  \n",
    "Puedes tener mucha precisión pero estar lejos del valor real (baja exactitud). Pero también puedes tener un resultado cerca del valor real, pero con mucha variación (baja precisión)."
   ]
  },
  {
   "cell_type": "code",
   "execution_count": 28,
   "id": "aed517f8-c015-414f-8235-e1b891681dc5",
   "metadata": {},
   "outputs": [
    {
     "name": "stdout",
     "output_type": "stream",
     "text": [
      "Exactitud vs Precision\n",
      "\n",
      "Exactitud:\n",
      " - El modelo acertó 8 de 10 predicciones.\n",
      " - Exactitud = 0.8\n",
      " - Mide cuántas veces el modelo acierta en general.\n",
      "\n",
      "Precisión:\n",
      " - El modelo predijo 'positivo' 5 veces.\n",
      " - De esas, acertó 4.\n",
      " - Precisión = 0.8\n",
      " - Mide cuántas veces fue correcto cuando dijo 'positivo'.\n"
     ]
    }
   ],
   "source": [
    "# Resultados reales (lo que en verdad ocurrió)\n",
    "reales =    [1, 0, 1, 1, 0, 1, 0, 0, 1, 0]\n",
    "\n",
    "# Predicciones del modelo (lo que el modelo dijo)\n",
    "predichos = [1, 0, 1, 0, 0, 1, 1, 0, 1, 0]\n",
    "\n",
    "# Inicializar contadores\n",
    "aciertos = 0\n",
    "positivos_acertados = 0\n",
    "positivos_totales_predichos = 0\n",
    "\n",
    "# Comparar valores reales con predichos\n",
    "for i in range(len(reales)):\n",
    "    if reales[i] == predichos[i]:\n",
    "        aciertos += 1\n",
    "    if predichos[i] == 1:\n",
    "        positivos_totales_predichos += 1\n",
    "        if reales[i] == 1:\n",
    "            positivos_acertados += 1\n",
    "\n",
    "# Calcular métricas\n",
    "exactitud = aciertos / len(reales)\n",
    "if positivos_totales_predichos != 0:\n",
    "    precision = positivos_acertados / positivos_totales_predichos\n",
    "else:\n",
    "    precision = 0\n",
    "\n",
    "# Mostrar resultados \n",
    "print(\"Exactitud vs Precision\\n\")\n",
    "\n",
    "print(\"Exactitud:\")\n",
    "print(f\" - El modelo acertó {aciertos} de {len(reales)} predicciones.\")\n",
    "print(f\" - Exactitud = {exactitud}\")\n",
    "print(\" - Mide cuántas veces el modelo acierta en general.\\n\")\n",
    "\n",
    "print(\"Precisión:\")\n",
    "print(f\" - El modelo predijo 'positivo' {positivos_totales_predichos} veces.\")\n",
    "print(f\" - De esas, acertó {positivos_acertados}.\")\n",
    "print(f\" - Precisión = {precision}\")\n",
    "print(\" - Mide cuántas veces fue correcto cuando dijo 'positivo'.\")\n"
   ]
  },
  {
   "cell_type": "markdown",
   "id": "5b52be9b-2f49-4944-bf03-01df5d8c1619",
   "metadata": {},
   "source": [
    "# Tipos de Error Numérico"
   ]
  },
  {
   "cell_type": "markdown",
   "id": "8e67986e-e0e6-4f06-9f79-9899101670d1",
   "metadata": {},
   "source": [
    "## 1. Error Real\n",
    "- Es la diferencia entre el valor verdadero y el valor aproximado.\n",
    "## 2.Error Absoluto\n",
    "- Es el valor absoluto del error real (sin importar el signo).\n",
    "## 3.Error Relativo\n",
    "- Es el error absoluto relacionado con el valor verdadero.\n",
    "## 4. Error Porcentual\n",
    "- Es el error relativo expresado en porcentaje.\n"
   ]
  },
  {
   "cell_type": "code",
   "execution_count": 15,
   "id": "76a07868-0e8e-45b1-8595-ccca73e36a26",
   "metadata": {},
   "outputs": [
    {
     "name": "stdout",
     "output_type": "stream",
     "text": [
      "Cálculo de errores numéricos :\n",
      "\n",
      "Valor verdadero:    3.1416\n",
      "Valor aproximado:   3.14\n",
      "Error real:         0.0015999999999998238\n",
      "Error absoluto:     0.0015999999999998238\n",
      "Error relativo:     0.0005092946269416297\n",
      "Error porcentual:   0.05%\n"
     ]
    }
   ],
   "source": [
    "# Valor verdadero y aproximado\n",
    "valor_verdadero = 3.1416  # por ejemplo, pi , en este caso usaremos el valor verdadero redondeado\n",
    "valor_aproximado = 3.14   # una estimación simple\n",
    "\n",
    "# Cálculos de errores\n",
    "error_real = valor_verdadero - valor_aproximado\n",
    "error_absoluto = abs(error_real)\n",
    "error_relativo = error_absoluto / abs(valor_verdadero)\n",
    "error_porcentual = error_relativo * 100\n",
    "\n",
    "# Mostrar resultados\n",
    "print(\"Cálculo de errores numéricos :\\n\")\n",
    "print(f\"Valor verdadero:    {valor_verdadero}\")\n",
    "print(f\"Valor aproximado:   {valor_aproximado}\")\n",
    "print(f\"Error real:         {error_real}\")\n",
    "print(f\"Error absoluto:     {error_absoluto}\")\n",
    "print(f\"Error relativo:     {error_relativo}\")\n",
    "print(f\"Error porcentual:   {error_porcentual:.2f}%\")\n"
   ]
  },
  {
   "cell_type": "markdown",
   "id": "94c20ada-7e52-4e5e-8599-3f40450cd657",
   "metadata": {},
   "source": []
  }
 ],
 "metadata": {
  "kernelspec": {
   "display_name": "Python [conda env:base] *",
   "language": "python",
   "name": "conda-base-py"
  },
  "language_info": {
   "codemirror_mode": {
    "name": "ipython",
    "version": 3
   },
   "file_extension": ".py",
   "mimetype": "text/x-python",
   "name": "python",
   "nbconvert_exporter": "python",
   "pygments_lexer": "ipython3",
   "version": "3.12.7"
  }
 },
 "nbformat": 4,
 "nbformat_minor": 5
}
