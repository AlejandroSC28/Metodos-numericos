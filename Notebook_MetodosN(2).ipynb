{
 "cells": [
  {
   "cell_type": "markdown",
   "id": "0aa77d19-160e-4bc1-9876-9c527a03a8cd",
   "metadata": {},
   "source": [
    "# Representación Numerica con 32 Bits"
   ]
  },
  {
   "cell_type": "markdown",
   "id": "f55a4bb0-791e-416a-a53a-b268d3d7c8d1",
   "metadata": {},
   "source": [
    "## IEEE 754 de 32 bits, también llamado precisión simple o float, representa números reales utilizando:\n",
    "\n",
    "- 1 bit de signo: 0 para positivo, 1 para negativo.\n",
    "\n",
    "- 8 bits de exponente: con un sesgo (bias) de 127.\n",
    "\n",
    "- 23 bits de mantisa: representan la fracción significativa del número."
   ]
  },
  {
   "cell_type": "code",
   "execution_count": 3,
   "id": "8f5cbbfd-55d6-48cf-89d0-70f8fa532fc3",
   "metadata": {},
   "outputs": [],
   "source": [
    "def decimal_a_ieee754_32(numero):\n",
    "    # 1. Signo\n",
    "    signo = '0' if numero >= 0 else '1'\n",
    "    numero = abs(numero)\n",
    "\n",
    "    # 2. Parte entera y fraccionaria\n",
    "    entero = int(numero)\n",
    "    fraccion = numero - entero\n",
    "\n",
    "    # 3. Binario de la parte entera\n",
    "    bin_entero = bin(entero)[2:] if entero != 0 else '0'\n",
    "\n",
    "    # 4. Binario de la parte fraccionaria\n",
    "    bin_fraccion = ''\n",
    "    while len(bin_fraccion) < 30 and fraccion != 0:\n",
    "        fraccion *= 2\n",
    "        bit = int(fraccion)\n",
    "        bin_fraccion += str(bit)\n",
    "        fraccion -= bit\n",
    "\n",
    "    # 5. Unir las partes\n",
    "    if entero != 0:\n",
    "        bin_total = bin_entero + '.' + bin_fraccion\n",
    "        exponente = len(bin_entero) - 1\n",
    "        mantisa = bin_entero[1:] + bin_fraccion\n",
    "    else:\n",
    "        # número menor que 1, buscar el primer 1\n",
    "        primer_uno = bin_fraccion.find('1') + 1\n",
    "        exponente = -primer_uno\n",
    "        mantisa = bin_fraccion[primer_uno:]\n",
    "\n",
    "    # 6. Exponente con  127\n",
    "    exponente_con_bias = exponente + 127\n",
    "    bin_exponente = f'{exponente_con_bias:08b}'\n",
    "\n",
    "    # 7. Mantisa ajustada (23 bits)\n",
    "    mantisa = (mantisa + '0'*23)[:23]\n",
    "\n",
    "    # 8. Unión final\n",
    "    resultado = signo + bin_exponente + mantisa\n",
    "    return resultado"
   ]
  },
  {
   "cell_type": "code",
   "execution_count": 9,
   "id": "f729a90c-165b-4aeb-bec2-000606fac5ea",
   "metadata": {},
   "outputs": [],
   "source": [
    "def ieee754_32_a_decimal(bin_str):\n",
    "    # Separar las partes\n",
    "    signo = int(bin_str[0])\n",
    "    exponente = int(bin_str[1:9], 2) - 127  # quitar bias\n",
    "    mantisa_bin = bin_str[9:]\n",
    "\n",
    "    # reconstruir mantisa como 1.xxxxxx\n",
    "    mantisa = 1.0\n",
    "    for i in range(len(mantisa_bin)):\n",
    "        bit = int(mantisa_bin[i])\n",
    "        mantisa += bit * 2 ** -(i + 1)\n",
    "\n",
    "    # calcular valor final\n",
    "    valor = mantisa * (2 ** exponente)\n",
    "    if signo == 1:\n",
    "        valor = -valor\n",
    "    return valor"
   ]
  },
  {
   "cell_type": "code",
   "execution_count": 7,
   "id": "6abbde41-8523-43f1-b469-037d0849d2e9",
   "metadata": {},
   "outputs": [
    {
     "name": "stdout",
     "output_type": "stream",
     "text": [
      "Número original: 6.75\n",
      "IEEE 754 (32 bits): 01000000110110000000000000000000\n",
      "Convertido de vuelta a decimal: 6.75\n"
     ]
    }
   ],
   "source": [
    "num = 6.75\n",
    "binario = decimal_a_ieee754_32(num)\n",
    "reconstruido = ieee754_32_a_decimal(binario)\n",
    "\n",
    "print(\"Número original:\", num)\n",
    "print(\"IEEE 754 (32 bits):\", binario)\n",
    "print(\"Convertido de vuelta a decimal:\", reconstruido)"
   ]
  },
  {
   "cell_type": "markdown",
   "id": "2363814a-7cdf-4d01-9c82-946b8227745e",
   "metadata": {},
   "source": [
    "# Representación Numerica con 64 Bits"
   ]
  },
  {
   "cell_type": "markdown",
   "id": "54be1ad2-897a-47d9-b3d4-df9cb68ebe96",
   "metadata": {},
   "source": [
    "## IEEE 754 de 64 bits, conocido como doble precisión o double, representa números reales con más exactitud. Usa:\n",
    "\n",
    "1 bit de signo\n",
    "\n",
    "11 bits de exponente, con sesgo de 1023\n",
    "\n",
    "52 bits de mantisa\n",
    "\n",
    "Esto permite representar números con mayor precisión que el formato de 32 bits."
   ]
  },
  {
   "cell_type": "code",
   "execution_count": 7,
   "id": "94233059-0608-4a8c-ba4e-ecce3cb38fbf",
   "metadata": {},
   "outputs": [],
   "source": [
    "def decimal_a_ieee754_64(numero):\n",
    "    # 1. Signo\n",
    "    signo = '0' if numero >= 0 else '1'\n",
    "    numero = abs(numero)\n",
    "\n",
    "    # 2. Parte entera y fraccionaria\n",
    "    entero = int(numero)\n",
    "    fraccion = numero - entero\n",
    "\n",
    "    # 3. Parte entera a binario\n",
    "    bin_entero = bin(entero)[2:] if entero != 0 else '0'\n",
    "\n",
    "    # 4. Parte fraccionaria a binario\n",
    "    bin_fraccion = ''\n",
    "    while len(bin_fraccion) < 60 and fraccion != 0:\n",
    "        fraccion *= 2\n",
    "        bit = int(fraccion)\n",
    "        bin_fraccion += str(bit)\n",
    "        fraccion -= bit\n",
    "\n",
    "    # 5. Normalizar\n",
    "    if entero != 0:\n",
    "        exponente = len(bin_entero) - 1\n",
    "        mantisa = bin_entero[1:] + bin_fraccion\n",
    "    else:\n",
    "        primer_uno = bin_fraccion.find('1') + 1\n",
    "        exponente = -primer_uno\n",
    "        mantisa = bin_fraccion[primer_uno:]\n",
    "\n",
    "    # 6. Exponente con  (1023)\n",
    "    exponente_bias = exponente + 1023\n",
    "    bin_exponente = f\"{exponente_bias:011b}\"\n",
    "\n",
    "    # 7. Mantisa ajustada (52 bits)\n",
    "    mantisa = (mantisa + '0'*52)[:52]\n",
    "\n",
    "    # 8. Unir todo\n",
    "    ieee_754 = signo + bin_exponente + mantisa\n",
    "    return ieee_754"
   ]
  },
  {
   "cell_type": "code",
   "execution_count": 5,
   "id": "843a10cf-6914-48ba-b19d-10a12cfa2dee",
   "metadata": {},
   "outputs": [],
   "source": [
    "def ieee754_64_a_decimal(bin_str):\n",
    "    signo = int(bin_str[0])\n",
    "    exponente = int(bin_str[1:12], 2) - 1023  \n",
    "    mantisa_bin = bin_str[12:]\n",
    "\n",
    "    # Reconstruir la mantisa (1.xxxxx...)\n",
    "    mantisa = 1.0\n",
    "    for i in range(len(mantisa_bin)):\n",
    "        bit = int(mantisa_bin[i])\n",
    "        mantisa += bit * 2 ** -(i + 1)\n",
    "\n",
    "    # Calcular valor final\n",
    "    valor = mantisa * (2 ** exponente)\n",
    "    if signo == 1:\n",
    "        valor = -valor\n",
    "    return valor"
   ]
  },
  {
   "cell_type": "code",
   "execution_count": 17,
   "id": "69a20d09-3be5-49c8-af9c-6409e2fb9490",
   "metadata": {},
   "outputs": [
    {
     "name": "stdout",
     "output_type": "stream",
     "text": [
      "Número original: 6.75\n",
      "IEEE 754 (64 bits): 0100000000011011000000000000000000000000000000000000000000000000\n",
      "Convertido de vuelta a decimal: 6.75\n"
     ]
    }
   ],
   "source": [
    "num = 6.75\n",
    "bin64 = decimal_a_ieee754_64(num)\n",
    "reconstruido64 = ieee754_64_a_decimal(bin64)\n",
    "\n",
    "print(\"Número original:\", num)\n",
    "print(\"IEEE 754 (64 bits):\", bin64)\n",
    "print(\"Convertido de vuelta a decimal:\", reconstruido64)"
   ]
  },
  {
   "cell_type": "markdown",
   "id": "f8519096-5c1d-4439-ac58-a028a307e65f",
   "metadata": {},
   "source": [
    "# Aritmética de dígitos finitos de computador"
   ]
  },
  {
   "cell_type": "markdown",
   "id": "99e06ec7-f433-4ef5-b94c-721d421a6f90",
   "metadata": {},
   "source": [
    "En las computadoras, los números reales no se pueden representar con infinita precisión. Por ello, se utiliza aritmética de precisión finita, lo que puede generar errores en los cálculos.\n",
    "\n",
    "Conceptos clave:\n",
    "- **Corte (truncamiento)**: Se eliminan las cifras que exceden un número fijo de cifras significativas sin redondear.\n",
    "\n",
    "- **Cifras significativas**: Son los dígitos que aportan información útil en un número. Por ejemplo, 3.1415 tiene 5 cifras significativas.\n",
    "\n",
    "- **Aritmética de máquina**: Los cálculos se realizan respetando un número limitado de cifras (como lo hace el hardware), generando errores de redondeo o truncamiento.\n",
    "\n",
    "Este ejercicio simula cómo una computadora realiza operaciones aritméticas usando solo 5 cifras significativas , conciderando :\n",
    "\n",
    "x = 5/7, y = 1/3, u = 0.714251, v = 98765.9, y w =0.111111×10^-4"
   ]
  },
  {
   "cell_type": "code",
   "execution_count": 29,
   "id": "ea23d5f4-c4f2-401a-ab20-d494b37460e5",
   "metadata": {},
   "outputs": [
    {
     "name": "stdout",
     "output_type": "stream",
     "text": [
      "RESULTADOS CON CORTE A 5 CIFRAS SIGNIFICATIVAS (SIN LIBRERÍAS)\n",
      "\n",
      "a) x (x) u = 0.51017\n",
      "b) (x (/) u) (+) w = 1.0\n",
      "c) v (-) u = 98764.0\n",
      "d) (y (x) w) (+) [(x (-) v) (/) y] = -296280.0\n"
     ]
    }
   ],
   "source": [
    "# Función para corte a 5 cifras significativas sin usar math\n",
    "def corte_5_cifras(num):\n",
    "    if num == 0:\n",
    "        return 0\n",
    "\n",
    "    # Determinar el orden de magnitud (número de cifras antes del punto)\n",
    "    abs_num = abs(num)\n",
    "    pot = 0\n",
    "    if abs_num >= 1:\n",
    "        while abs_num >= 10:\n",
    "            abs_num /= 10\n",
    "            pot += 1\n",
    "    else:\n",
    "        while abs_num < 1:\n",
    "            abs_num *= 10\n",
    "            pot -= 1\n",
    "\n",
    "    # Escalar el número para tener 5 cifras a la izquierda del punto\n",
    "    factor = 10 ** (4 - pot)\n",
    "    resultado = int(num * factor) / factor\n",
    "    return resultado\n",
    "\n",
    "# Operaciones básicas con corte\n",
    "def op_suma(a, b): return corte_5_cifras(corte_5_cifras(a) + corte_5_cifras(b))  # ⊕\n",
    "def op_resta(a, b): return corte_5_cifras(corte_5_cifras(a) - corte_5_cifras(b)) # ⊖\n",
    "def op_mult(a, b): return corte_5_cifras(corte_5_cifras(a) * corte_5_cifras(b))  # ⊗\n",
    "def op_div(a, b): return corte_5_cifras(corte_5_cifras(a) / corte_5_cifras(b))   # ⊘\n",
    "\n",
    "# Variables\n",
    "x = corte_5_cifras(5 / 7)\n",
    "y = corte_5_cifras(1 / 3)\n",
    "u = corte_5_cifras(0.71425)\n",
    "v = corte_5_cifras(98765.9)\n",
    "w = corte_5_cifras(0.111111e-4)\n",
    "\n",
    "# Operaciones\n",
    "a = op_mult(x, u)\n",
    "b = op_suma(op_div(x, u), w)\n",
    "c = op_resta(v, u)\n",
    "parte1 = op_mult(y, w)\n",
    "parte2 = op_div(op_resta(x, v), y)\n",
    "d = op_suma(parte1, parte2)\n",
    "\n",
    "# Resultados\n",
    "print(\"RESULTADOS CON CORTE A 5 CIFRAS SIGNIFICATIVAS (SIN LIBRERÍAS)\\n\")\n",
    "print(\"a) x (x) u =\", a)\n",
    "print(\"b) (x (/) u) (+) w =\", b)\n",
    "print(\"c) v (-) u =\", c)\n",
    "print(\"d) (y (x) w) (+) [(x (-) v) (/) y] =\", d)\n"
   ]
  },
  {
   "cell_type": "markdown",
   "id": "cda4f47f-34ab-4302-966e-b14c30c5dba6",
   "metadata": {},
   "source": [
    "# Convergencia, Divergencia y Tolerancia\n",
    "La siguiente gráfica muestra tres tipos de comportamiento en algoritmos iterativos:\n",
    "\n",
    "- **Convergente**: El error disminuye con cada iteración.\n",
    "- **Divergente**: El error crece con cada iteración.\n",
    "- **Oscilante/Inestable**: El error no converge ni diverge, sino que oscila.\n",
    "\n",
    "Estos comportamientos son importantes para analizar la estabilidad y eficiencia de métodos numéricos."
   ]
  },
  {
   "cell_type": "code",
   "execution_count": 3,
   "id": "49a24e08-ec02-429c-82a5-0e6ba47c7bb6",
   "metadata": {},
   "outputs": [
    {
     "data": {
      "image/png": "[encoded data removed]",
      "text/plain": [
       "<Figure size 640x480 with 1 Axes>"
      ]
     },
     "metadata": {},
     "output_type": "display_data"
    }
   ],
   "source": [
    "import matplotlib.pyplot as plt\n",
    "\n",
    "# Valores del eje X (número de iteraciones)\n",
    "iteraciones = list(range(1, 20))\n",
    "\n",
    "# Tipos de errores\n",
    "convergente = [1/i for i in iteraciones]\n",
    "divergente = [1.2**i for i in iteraciones]\n",
    "oscilante = [1 + 0.5*(-1)**i for i in iteraciones]\n",
    "\n",
    "# Crear la gráfica\n",
    "plt.plot(iteraciones, convergente, color='green', label='Convergente')\n",
    "plt.plot(iteraciones, divergente, color='red', label='Divergente')\n",
    "plt.plot(iteraciones, oscilante, color='orange', label='Oscilante/Inestable')\n",
    "\n",
    "# Agregar etiquetas y título\n",
    "plt.xlabel(\"Iteraciones\")\n",
    "plt.ylabel(\"Error\")\n",
    "plt.title(\"Convergencia, Divergencia y Tolerancia\")\n",
    "\n",
    "# Mostrar leyenda y gráfico\n",
    "plt.legend()\n",
    "plt.grid(True)\n",
    "plt.show()"
   ]
  },
  {
   "cell_type": "markdown",
   "id": "8ef151e3-2c32-4d07-9df7-87f3cf0ad836",
   "metadata": {},
   "source": [
    "# Criterios de parada\n",
    "\n",
    "Los criterios de parada se usan dentro de los algoritmos iterativos para evitar que se ejecuten infinitamente. Estos criterios ayudan a decidir **cuándo detenerse**, una vez que se ha alcanzado una solución suficientemente buena o cuando se han agotado los recursos disponibles.\n",
    "\n",
    "### Tipos comunes de criterios:\n",
    "\n",
    "- **Error absoluto:**  \n",
    "  Se detiene si la diferencia entre dos iteraciones consecutivas es muy pequeña.  \n",
    "  |pn - pn-1| < ε\n",
    "\n",
    "- **Error relativo:**  \n",
    "  Se compara el cambio relativo respecto al valor actual.  \n",
    "  |pn - pn-1| / |pn| < ε\n",
    "\n",
    "- **Valor de la función:**  \n",
    "  Si el valor de la función en la solución es casi cero.  \n",
    "  |f(pn)| < E\n",
    "\n",
    "- **Número máximo de iteraciones:**  \n",
    "  Para evitar bucles infinitos.  \n",
    "  i < K\n",
    "\n",
    "- **Tiempo máximo:**  \n",
    "  Se detiene si el tiempo de ejecución supera un límite.  \n",
    "  t < T[ms]\n"
   ]
  },
  {
   "cell_type": "markdown",
   "id": "d5aa1b28-8a68-41c1-bb99-cf00dd639271",
   "metadata": {},
   "source": [
    "### Para este ejemplo :\n",
    "#### Se usaran los siguientes criterios de parada:\n",
    "\n",
    "- **Error absoluto:** Se detiene si |f(x)| < 0.01\n",
    "- **Máximo de iteraciones:** Se detiene si pasa de 20 intentos\n"
   ]
  },
  {
   "cell_type": "code",
   "execution_count": 18,
   "id": "d8a10cfe-ad4c-4e10-a094-d32218ac9d45",
   "metadata": {},
   "outputs": [
    {
     "name": "stdout",
     "output_type": "stream",
     "text": [
      "Iteración: 1 | x = 0 | f(x) = -3 | Error = 3\n",
      "Iteración: 2 | x = 0.5 | f(x) = -2.5 | Error = 2.5\n",
      "Iteración: 3 | x = 1.0 | f(x) = -2.0 | Error = 2.0\n",
      "Iteración: 4 | x = 1.5 | f(x) = -1.5 | Error = 1.5\n",
      "Iteración: 5 | x = 2.0 | f(x) = -1.0 | Error = 1.0\n",
      "Iteración: 6 | x = 2.5 | f(x) = -0.5 | Error = 0.5\n",
      "Iteración: 7 | x = 3.0 | f(x) = 0.0 | Error = 0.0\n",
      "\n",
      "¡Paró porque el error es pequeño!\n"
     ]
    }
   ],
   "source": [
    "# Queremos encontrar la raíz de: f(x) = x - 3\n",
    "def f(x):\n",
    "    return x - 3\n",
    "\n",
    "# Punto de partida\n",
    "x = 0\n",
    "\n",
    "# Parámetros de parada para la funcion \n",
    "tolerancia = 0.01\n",
    "max_iteraciones = 20\n",
    "\n",
    "for i in range(max_iteraciones):\n",
    "    fx = f(x)\n",
    "    error = abs(fx)\n",
    "    \n",
    "    print(\"Iteración:\", i+1, \"| x =\", x, \"| f(x) =\", fx, \"| Error =\", error)\n",
    "     # Criterios de parada\n",
    "    if error < tolerancia:\n",
    "        print(\"\\n¡Paró porque el error es pequeño!\")\n",
    "        break\n",
    "    # acercarse a la raíz (x = x + 0.5)\n",
    "    x = x + 0.5\n",
    "else:\n",
    "    print(\"\\n¡Paró por máximo de iteraciones!\")\n"
   ]
  },
  {
   "cell_type": "code",
   "execution_count": null,
   "id": "416b0847-df01-475c-9939-0d8e1fd714f5",
   "metadata": {},
   "outputs": [],
   "source": []
  }
 ],
 "metadata": {
  "kernelspec": {
   "display_name": "Python [conda env:base] *",
   "language": "python",
   "name": "conda-base-py"
  },
  "language_info": {
   "codemirror_mode": {
    "name": "ipython",
    "version": 3
   },
   "file_extension": ".py",
   "mimetype": "text/x-python",
   "name": "python",
   "nbconvert_exporter": "python",
   "pygments_lexer": "ipython3",
   "version": "3.12.7"
  }
 },
 "nbformat": 4,
 "nbformat_minor": 5
}
